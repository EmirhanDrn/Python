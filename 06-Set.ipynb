{
 "cells": [
  {
   "cell_type": "code",
   "execution_count": 1,
   "id": "5c3e666b",
   "metadata": {},
   "outputs": [],
   "source": [
    "my_list = [1,2,3,1]"
   ]
  },
  {
   "cell_type": "code",
   "execution_count": 2,
   "id": "269fdcfd",
   "metadata": {},
   "outputs": [],
   "source": [
    "m = [1,2,3,1]"
   ]
  },
  {
   "cell_type": "code",
   "execution_count": 3,
   "id": "7dafc75c",
   "metadata": {},
   "outputs": [
    {
     "data": {
      "text/plain": [
       "[1, 2, 3, 1]"
      ]
     },
     "execution_count": 3,
     "metadata": {},
     "output_type": "execute_result"
    }
   ],
   "source": [
    "m"
   ]
  },
  {
   "cell_type": "code",
   "execution_count": 4,
   "id": "fd602b4d",
   "metadata": {},
   "outputs": [
    {
     "data": {
      "text/plain": [
       "[1, 2, 3, 1]"
      ]
     },
     "execution_count": 4,
     "metadata": {},
     "output_type": "execute_result"
    }
   ],
   "source": [
    "my_list"
   ]
  },
  {
   "cell_type": "markdown",
   "id": "9db5a5af",
   "metadata": {},
   "source": [
    "##Casting"
   ]
  },
  {
   "cell_type": "code",
   "execution_count": 5,
   "id": "888991e9",
   "metadata": {},
   "outputs": [],
   "source": [
    "my_set = set (my_list)"
   ]
  },
  {
   "cell_type": "code",
   "execution_count": 6,
   "id": "4540f1e1",
   "metadata": {},
   "outputs": [
    {
     "data": {
      "text/plain": [
       "{1, 2, 3}"
      ]
     },
     "execution_count": 6,
     "metadata": {},
     "output_type": "execute_result"
    }
   ],
   "source": [
    "my_set"
   ]
  },
  {
   "cell_type": "code",
   "execution_count": 7,
   "id": "8c0c97ca",
   "metadata": {},
   "outputs": [],
   "source": [
    "my_set_2 = {1,2,3,1}"
   ]
  },
  {
   "cell_type": "code",
   "execution_count": 8,
   "id": "46479143",
   "metadata": {},
   "outputs": [
    {
     "data": {
      "text/plain": [
       "{1, 2, 3}"
      ]
     },
     "execution_count": 8,
     "metadata": {},
     "output_type": "execute_result"
    }
   ],
   "source": [
    "my_set_2"
   ]
  },
  {
   "cell_type": "code",
   "execution_count": 11,
   "id": "16ef8d21",
   "metadata": {},
   "outputs": [
    {
     "data": {
      "text/plain": [
       "set"
      ]
     },
     "execution_count": 11,
     "metadata": {},
     "output_type": "execute_result"
    }
   ],
   "source": [
    "type (my_set_2)"
   ]
  },
  {
   "cell_type": "code",
   "execution_count": 12,
   "id": "64043340",
   "metadata": {},
   "outputs": [],
   "source": [
    "my_set_3 = {\"a\",\"b\",\"a\"}"
   ]
  },
  {
   "cell_type": "code",
   "execution_count": 13,
   "id": "53e78d18",
   "metadata": {},
   "outputs": [
    {
     "data": {
      "text/plain": [
       "{'a', 'b'}"
      ]
     },
     "execution_count": 13,
     "metadata": {},
     "output_type": "execute_result"
    }
   ],
   "source": [
    "my_set_3"
   ]
  },
  {
   "cell_type": "code",
   "execution_count": 14,
   "id": "5e50cb3b",
   "metadata": {},
   "outputs": [],
   "source": [
    "##Aynı veriyi 2. kere yazmaz"
   ]
  },
  {
   "cell_type": "code",
   "execution_count": 15,
   "id": "4d067943",
   "metadata": {},
   "outputs": [],
   "source": [
    "my_list = []"
   ]
  },
  {
   "cell_type": "code",
   "execution_count": 16,
   "id": "d3eb1a9d",
   "metadata": {},
   "outputs": [
    {
     "data": {
      "text/plain": [
       "list"
      ]
     },
     "execution_count": 16,
     "metadata": {},
     "output_type": "execute_result"
    }
   ],
   "source": [
    "type (my_list)"
   ]
  },
  {
   "cell_type": "code",
   "execution_count": 17,
   "id": "ca7ae73e",
   "metadata": {},
   "outputs": [],
   "source": [
    "my_list.append(1)"
   ]
  },
  {
   "cell_type": "code",
   "execution_count": 18,
   "id": "092bee43",
   "metadata": {},
   "outputs": [
    {
     "data": {
      "text/plain": [
       "[1]"
      ]
     },
     "execution_count": 18,
     "metadata": {},
     "output_type": "execute_result"
    }
   ],
   "source": [
    "my_list"
   ]
  },
  {
   "cell_type": "code",
   "execution_count": 19,
   "id": "7b593c95",
   "metadata": {},
   "outputs": [],
   "source": [
    "my_set_4 = {}"
   ]
  },
  {
   "cell_type": "code",
   "execution_count": 21,
   "id": "2a9555fe",
   "metadata": {},
   "outputs": [
    {
     "data": {
      "text/plain": [
       "{}"
      ]
     },
     "execution_count": 21,
     "metadata": {},
     "output_type": "execute_result"
    }
   ],
   "source": [
    "my_set_4"
   ]
  },
  {
   "cell_type": "code",
   "execution_count": 23,
   "id": "386c4a32",
   "metadata": {},
   "outputs": [
    {
     "data": {
      "text/plain": [
       "dict"
      ]
     },
     "execution_count": 23,
     "metadata": {},
     "output_type": "execute_result"
    }
   ],
   "source": [
    "type(my_set_4)"
   ]
  },
  {
   "cell_type": "code",
   "execution_count": 25,
   "id": "32f8c59b",
   "metadata": {},
   "outputs": [],
   "source": [
    "my_set_5= set ()"
   ]
  },
  {
   "cell_type": "code",
   "execution_count": 26,
   "id": "b134275d",
   "metadata": {},
   "outputs": [
    {
     "data": {
      "text/plain": [
       "set()"
      ]
     },
     "execution_count": 26,
     "metadata": {},
     "output_type": "execute_result"
    }
   ],
   "source": [
    "my_set_5"
   ]
  },
  {
   "cell_type": "code",
   "execution_count": 27,
   "id": "0d9e5649",
   "metadata": {},
   "outputs": [],
   "source": [
    "my_set_5.add(2)"
   ]
  },
  {
   "cell_type": "code",
   "execution_count": 28,
   "id": "a057d62f",
   "metadata": {},
   "outputs": [
    {
     "data": {
      "text/plain": [
       "{2}"
      ]
     },
     "execution_count": 28,
     "metadata": {},
     "output_type": "execute_result"
    }
   ],
   "source": [
    "my_set_5"
   ]
  },
  {
   "cell_type": "code",
   "execution_count": 29,
   "id": "e82ba49b",
   "metadata": {},
   "outputs": [],
   "source": [
    "my_set_5.add(1)"
   ]
  },
  {
   "cell_type": "code",
   "execution_count": 30,
   "id": "64fbbf77",
   "metadata": {},
   "outputs": [],
   "source": [
    "my_set_5.add(3)"
   ]
  },
  {
   "cell_type": "code",
   "execution_count": 31,
   "id": "27517069",
   "metadata": {},
   "outputs": [],
   "source": [
    "my_set_5.add(2)"
   ]
  },
  {
   "cell_type": "code",
   "execution_count": 32,
   "id": "853cf450",
   "metadata": {},
   "outputs": [
    {
     "data": {
      "text/plain": [
       "{1, 2, 3}"
      ]
     },
     "execution_count": 32,
     "metadata": {},
     "output_type": "execute_result"
    }
   ],
   "source": [
    "my_set_5"
   ]
  },
  {
   "cell_type": "code",
   "execution_count": 33,
   "id": "37b24ee1",
   "metadata": {},
   "outputs": [
    {
     "data": {
      "text/plain": [
       "set"
      ]
     },
     "execution_count": 33,
     "metadata": {},
     "output_type": "execute_result"
    }
   ],
   "source": [
    "type (my_set_5)"
   ]
  },
  {
   "cell_type": "code",
   "execution_count": null,
   "id": "d2e19587",
   "metadata": {},
   "outputs": [],
   "source": []
  }
 ],
 "metadata": {
  "kernelspec": {
   "display_name": "Python 3 (ipykernel)",
   "language": "python",
   "name": "python3"
  },
  "language_info": {
   "codemirror_mode": {
    "name": "ipython",
    "version": 3
   },
   "file_extension": ".py",
   "mimetype": "text/x-python",
   "name": "python",
   "nbconvert_exporter": "python",
   "pygments_lexer": "ipython3",
   "version": "3.9.7"
  }
 },
 "nbformat": 4,
 "nbformat_minor": 5
}
