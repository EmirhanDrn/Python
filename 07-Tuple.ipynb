{
 "cells": [
  {
   "cell_type": "code",
   "execution_count": 1,
   "id": "f88de240",
   "metadata": {},
   "outputs": [],
   "source": [
    "my_list=[\"a\",1,\"c\"]"
   ]
  },
  {
   "cell_type": "code",
   "execution_count": 3,
   "id": "de357965",
   "metadata": {},
   "outputs": [],
   "source": [
    "my_list[0]=\"b\""
   ]
  },
  {
   "cell_type": "code",
   "execution_count": 4,
   "id": "79ef5ce1",
   "metadata": {},
   "outputs": [
    {
     "data": {
      "text/plain": [
       "['b', 1, 'c']"
      ]
     },
     "execution_count": 4,
     "metadata": {},
     "output_type": "execute_result"
    }
   ],
   "source": [
    "my_list"
   ]
  },
  {
   "cell_type": "code",
   "execution_count": 5,
   "id": "02b51bc2",
   "metadata": {},
   "outputs": [],
   "source": [
    "my_tuble=(\"a\",1,\"c\")"
   ]
  },
  {
   "cell_type": "code",
   "execution_count": 6,
   "id": "a298e81d",
   "metadata": {},
   "outputs": [
    {
     "data": {
      "text/plain": [
       "('a', 1, 'c')"
      ]
     },
     "execution_count": 6,
     "metadata": {},
     "output_type": "execute_result"
    }
   ],
   "source": [
    "my_tuble"
   ]
  },
  {
   "cell_type": "code",
   "execution_count": 7,
   "id": "11ed1779",
   "metadata": {},
   "outputs": [
    {
     "data": {
      "text/plain": [
       "'a'"
      ]
     },
     "execution_count": 7,
     "metadata": {},
     "output_type": "execute_result"
    }
   ],
   "source": [
    "my_tuble[0]"
   ]
  },
  {
   "cell_type": "code",
   "execution_count": 8,
   "id": "37c60a96",
   "metadata": {},
   "outputs": [
    {
     "ename": "TypeError",
     "evalue": "'tuple' object does not support item assignment",
     "output_type": "error",
     "traceback": [
      "\u001b[1;31m---------------------------------------------------------------------------\u001b[0m",
      "\u001b[1;31mTypeError\u001b[0m                                 Traceback (most recent call last)",
      "\u001b[1;32m~\\AppData\\Local\\Temp/ipykernel_14276/608532288.py\u001b[0m in \u001b[0;36m<module>\u001b[1;34m\u001b[0m\n\u001b[1;32m----> 1\u001b[1;33m \u001b[0mmy_tuble\u001b[0m\u001b[1;33m[\u001b[0m\u001b[1;36m0\u001b[0m\u001b[1;33m]\u001b[0m \u001b[1;33m=\u001b[0m \u001b[1;34m\"b\"\u001b[0m\u001b[1;33m\u001b[0m\u001b[1;33m\u001b[0m\u001b[0m\n\u001b[0m",
      "\u001b[1;31mTypeError\u001b[0m: 'tuple' object does not support item assignment"
     ]
    }
   ],
   "source": [
    "my_tuble[0] = \"b\""
   ]
  },
  {
   "cell_type": "code",
   "execution_count": 9,
   "id": "c69ddffd",
   "metadata": {},
   "outputs": [],
   "source": [
    "my_list [0] = \"E\""
   ]
  },
  {
   "cell_type": "code",
   "execution_count": 10,
   "id": "0cff4848",
   "metadata": {},
   "outputs": [
    {
     "data": {
      "text/plain": [
       "['E', 1, 'c']"
      ]
     },
     "execution_count": 10,
     "metadata": {},
     "output_type": "execute_result"
    }
   ],
   "source": [
    "my_list"
   ]
  },
  {
   "cell_type": "code",
   "execution_count": 12,
   "id": "496ffe9a",
   "metadata": {},
   "outputs": [],
   "source": [
    "my_t=(\"a\",\"v\",1)"
   ]
  },
  {
   "cell_type": "code",
   "execution_count": 13,
   "id": "415ad360",
   "metadata": {},
   "outputs": [
    {
     "data": {
      "text/plain": [
       "'a'"
      ]
     },
     "execution_count": 13,
     "metadata": {},
     "output_type": "execute_result"
    }
   ],
   "source": [
    "my_T[0]"
   ]
  },
  {
   "cell_type": "code",
   "execution_count": 16,
   "id": "eb7b9be0",
   "metadata": {},
   "outputs": [
    {
     "ename": "TypeError",
     "evalue": "'tuple' object does not support item assignment",
     "output_type": "error",
     "traceback": [
      "\u001b[1;31m---------------------------------------------------------------------------\u001b[0m",
      "\u001b[1;31mTypeError\u001b[0m                                 Traceback (most recent call last)",
      "\u001b[1;32m~\\AppData\\Local\\Temp/ipykernel_14276/2721544427.py\u001b[0m in \u001b[0;36m<module>\u001b[1;34m\u001b[0m\n\u001b[1;32m----> 1\u001b[1;33m \u001b[0mmy_T\u001b[0m\u001b[1;33m[\u001b[0m\u001b[1;36m0\u001b[0m\u001b[1;33m]\u001b[0m\u001b[1;33m=\u001b[0m\u001b[1;36m1\u001b[0m\u001b[1;33m\u001b[0m\u001b[1;33m\u001b[0m\u001b[0m\n\u001b[0m",
      "\u001b[1;31mTypeError\u001b[0m: 'tuple' object does not support item assignment"
     ]
    }
   ],
   "source": [
    "my_T[0]=1"
   ]
  },
  {
   "cell_type": "code",
   "execution_count": 17,
   "id": "bc274e81",
   "metadata": {},
   "outputs": [],
   "source": [
    "##Tuplede girdiğin değiskeni değistiremessin \n"
   ]
  },
  {
   "cell_type": "code",
   "execution_count": 18,
   "id": "a86cdd2f",
   "metadata": {},
   "outputs": [],
   "source": [
    "my_tuble_2=(1,1,1,\"a\",\"c\")"
   ]
  },
  {
   "cell_type": "code",
   "execution_count": 19,
   "id": "5652a0ee",
   "metadata": {},
   "outputs": [
    {
     "data": {
      "text/plain": [
       "3"
      ]
     },
     "execution_count": 19,
     "metadata": {},
     "output_type": "execute_result"
    }
   ],
   "source": [
    "my_tuble_2.count(1)"
   ]
  },
  {
   "cell_type": "code",
   "execution_count": 21,
   "id": "2a605a93",
   "metadata": {},
   "outputs": [
    {
     "data": {
      "text/plain": [
       "1"
      ]
     },
     "execution_count": 21,
     "metadata": {},
     "output_type": "execute_result"
    }
   ],
   "source": [
    "my_tuble_2.count(\"a\")"
   ]
  },
  {
   "cell_type": "code",
   "execution_count": 22,
   "id": "e566c8c9",
   "metadata": {},
   "outputs": [
    {
     "data": {
      "text/plain": [
       "3"
      ]
     },
     "execution_count": 22,
     "metadata": {},
     "output_type": "execute_result"
    }
   ],
   "source": [
    "my_tuble_2.index(\"a\")"
   ]
  },
  {
   "cell_type": "code",
   "execution_count": 23,
   "id": "4d3a5355",
   "metadata": {},
   "outputs": [
    {
     "data": {
      "text/plain": [
       "4"
      ]
     },
     "execution_count": 23,
     "metadata": {},
     "output_type": "execute_result"
    }
   ],
   "source": [
    "my_tuble_2.index(\"c\")"
   ]
  },
  {
   "cell_type": "code",
   "execution_count": null,
   "id": "6e2d2569",
   "metadata": {},
   "outputs": [],
   "source": []
  }
 ],
 "metadata": {
  "kernelspec": {
   "display_name": "Python 3 (ipykernel)",
   "language": "python",
   "name": "python3"
  },
  "language_info": {
   "codemirror_mode": {
    "name": "ipython",
    "version": 3
   },
   "file_extension": ".py",
   "mimetype": "text/x-python",
   "name": "python",
   "nbconvert_exporter": "python",
   "pygments_lexer": "ipython3",
   "version": "3.9.7"
  }
 },
 "nbformat": 4,
 "nbformat_minor": 5
}
