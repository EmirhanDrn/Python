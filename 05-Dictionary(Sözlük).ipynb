{
 "cells": [
  {
   "cell_type": "code",
   "execution_count": 4,
   "id": "b704f952",
   "metadata": {},
   "outputs": [],
   "source": [
    "my_dictionary = {\"key\":\"value\"}"
   ]
  },
  {
   "cell_type": "code",
   "execution_count": 5,
   "id": "0c9b6152",
   "metadata": {},
   "outputs": [
    {
     "data": {
      "text/plain": [
       "'value'"
      ]
     },
     "execution_count": 5,
     "metadata": {},
     "output_type": "execute_result"
    }
   ],
   "source": [
    "my_dictionary[\"key\"]"
   ]
  },
  {
   "cell_type": "code",
   "execution_count": 8,
   "id": "9237e48c",
   "metadata": {},
   "outputs": [],
   "source": [
    "my_list = [100,200]"
   ]
  },
  {
   "cell_type": "code",
   "execution_count": 9,
   "id": "49190787",
   "metadata": {},
   "outputs": [],
   "source": [
    "my_list2 = [\"Run\",\"Swim\"]"
   ]
  },
  {
   "cell_type": "code",
   "execution_count": 10,
   "id": "f036e2a3",
   "metadata": {},
   "outputs": [
    {
     "data": {
      "text/plain": [
       "100"
      ]
     },
     "execution_count": 10,
     "metadata": {},
     "output_type": "execute_result"
    }
   ],
   "source": [
    "my_list [0]"
   ]
  },
  {
   "cell_type": "code",
   "execution_count": 11,
   "id": "aaf142ef",
   "metadata": {},
   "outputs": [
    {
     "data": {
      "text/plain": [
       "'Run'"
      ]
     },
     "execution_count": 11,
     "metadata": {},
     "output_type": "execute_result"
    }
   ],
   "source": [
    "my_list2 [0]"
   ]
  },
  {
   "cell_type": "code",
   "execution_count": 12,
   "id": "93992405",
   "metadata": {},
   "outputs": [],
   "source": [
    "my_fitness_dictionary = {\"run\":100,\"swim\":200}"
   ]
  },
  {
   "cell_type": "code",
   "execution_count": 13,
   "id": "c969109c",
   "metadata": {},
   "outputs": [
    {
     "data": {
      "text/plain": [
       "100"
      ]
     },
     "execution_count": 13,
     "metadata": {},
     "output_type": "execute_result"
    }
   ],
   "source": [
    "my_fitness_dictionary[\"run\"]"
   ]
  },
  {
   "cell_type": "code",
   "execution_count": 14,
   "id": "a6ccd381",
   "metadata": {},
   "outputs": [
    {
     "data": {
      "text/plain": [
       "200"
      ]
     },
     "execution_count": 14,
     "metadata": {},
     "output_type": "execute_result"
    }
   ],
   "source": [
    "my_fitness_dictionary[\"swim\"]"
   ]
  },
  {
   "cell_type": "code",
   "execution_count": 17,
   "id": "eb324322",
   "metadata": {},
   "outputs": [],
   "source": [
    "my_dictionry_2 = {\"key1\":1,\"key2\":2,\"key3\":\"Emirhan\"}"
   ]
  },
  {
   "cell_type": "code",
   "execution_count": 18,
   "id": "304cbc20",
   "metadata": {},
   "outputs": [
    {
     "data": {
      "text/plain": [
       "1"
      ]
     },
     "execution_count": 18,
     "metadata": {},
     "output_type": "execute_result"
    }
   ],
   "source": [
    "my_dictionry_2 [\"key1\"]"
   ]
  },
  {
   "cell_type": "code",
   "execution_count": 19,
   "id": "6435bac0",
   "metadata": {},
   "outputs": [
    {
     "data": {
      "text/plain": [
       "'Emirhan'"
      ]
     },
     "execution_count": 19,
     "metadata": {},
     "output_type": "execute_result"
    }
   ],
   "source": [
    "my_dictionry_2 [\"key3\"]"
   ]
  },
  {
   "cell_type": "code",
   "execution_count": 20,
   "id": "75d3bb1b",
   "metadata": {},
   "outputs": [],
   "source": [
    "my_dictionry_3 = {\"key1\":10,30:24,}"
   ]
  },
  {
   "cell_type": "code",
   "execution_count": 21,
   "id": "7b5db002",
   "metadata": {},
   "outputs": [
    {
     "data": {
      "text/plain": [
       "24"
      ]
     },
     "execution_count": 21,
     "metadata": {},
     "output_type": "execute_result"
    }
   ],
   "source": [
    "my_dictionry_3[30]"
   ]
  },
  {
   "cell_type": "code",
   "execution_count": 22,
   "id": "1ae621e7",
   "metadata": {},
   "outputs": [
    {
     "data": {
      "text/plain": [
       "10"
      ]
     },
     "execution_count": 22,
     "metadata": {},
     "output_type": "execute_result"
    }
   ],
   "source": [
    "my_dictionry_3[\"key1\"]"
   ]
  },
  {
   "cell_type": "code",
   "execution_count": 24,
   "id": "bcec2fa1",
   "metadata": {},
   "outputs": [],
   "source": [
    "my_dictionry_4 = {\"key1\":100,\"key2\":[10,20,30],\"key3\":{\"ED\":5}}"
   ]
  },
  {
   "cell_type": "code",
   "execution_count": 25,
   "id": "40d79233",
   "metadata": {},
   "outputs": [
    {
     "data": {
      "text/plain": [
       "dict_keys(['key1', 'key2', 'key3'])"
      ]
     },
     "execution_count": 25,
     "metadata": {},
     "output_type": "execute_result"
    }
   ],
   "source": [
    "my_dictionry_4.keys()"
   ]
  },
  {
   "cell_type": "code",
   "execution_count": 28,
   "id": "6e411c9f",
   "metadata": {},
   "outputs": [
    {
     "data": {
      "text/plain": [
       "dict_values([100, [10, 20, 30], {'ED': 5}])"
      ]
     },
     "execution_count": 28,
     "metadata": {},
     "output_type": "execute_result"
    }
   ],
   "source": [
    "my_dictionry_4.values()"
   ]
  },
  {
   "cell_type": "code",
   "execution_count": 33,
   "id": "420f1d1b",
   "metadata": {},
   "outputs": [
    {
     "data": {
      "text/plain": [
       "{'ED': 5}"
      ]
     },
     "execution_count": 33,
     "metadata": {},
     "output_type": "execute_result"
    }
   ],
   "source": [
    "my_dictionry_4[\"key3\"]"
   ]
  },
  {
   "cell_type": "code",
   "execution_count": 35,
   "id": "bba358c3",
   "metadata": {},
   "outputs": [
    {
     "data": {
      "text/plain": [
       "5"
      ]
     },
     "execution_count": 35,
     "metadata": {},
     "output_type": "execute_result"
    }
   ],
   "source": [
    "my_dictionry_4[\"key3\"][\"ED\"]"
   ]
  },
  {
   "cell_type": "code",
   "execution_count": 38,
   "id": "c6910e5e",
   "metadata": {},
   "outputs": [],
   "source": [
    "my_dictionry_5={\"k1\":1,\"k2\":2}"
   ]
  },
  {
   "cell_type": "code",
   "execution_count": 39,
   "id": "566340c5",
   "metadata": {},
   "outputs": [],
   "source": [
    "my_dictionry_5[\"k1\"] = 3"
   ]
  },
  {
   "cell_type": "code",
   "execution_count": 40,
   "id": "b1fcf865",
   "metadata": {},
   "outputs": [
    {
     "data": {
      "text/plain": [
       "{'k1': 3, 'k2': 2}"
      ]
     },
     "execution_count": 40,
     "metadata": {},
     "output_type": "execute_result"
    }
   ],
   "source": [
    "my_dictionry_5"
   ]
  },
  {
   "cell_type": "code",
   "execution_count": 41,
   "id": "f6ed20e6",
   "metadata": {},
   "outputs": [],
   "source": [
    "my_dictionry_5 [\"k3\"] = 7"
   ]
  },
  {
   "cell_type": "code",
   "execution_count": 42,
   "id": "bf6ae8c7",
   "metadata": {},
   "outputs": [
    {
     "data": {
      "text/plain": [
       "{'k1': 3, 'k2': 2, 'k3': 7}"
      ]
     },
     "execution_count": 42,
     "metadata": {},
     "output_type": "execute_result"
    }
   ],
   "source": [
    "my_dictionry_5"
   ]
  },
  {
   "cell_type": "code",
   "execution_count": null,
   "id": "50807fa6",
   "metadata": {},
   "outputs": [],
   "source": []
  }
 ],
 "metadata": {
  "kernelspec": {
   "display_name": "Python 3 (ipykernel)",
   "language": "python",
   "name": "python3"
  },
  "language_info": {
   "codemirror_mode": {
    "name": "ipython",
    "version": 3
   },
   "file_extension": ".py",
   "mimetype": "text/x-python",
   "name": "python",
   "nbconvert_exporter": "python",
   "pygments_lexer": "ipython3",
   "version": "3.9.7"
  }
 },
 "nbformat": 4,
 "nbformat_minor": 5
}
