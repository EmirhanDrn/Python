{
 "cells": [
  {
   "cell_type": "code",
   "execution_count": 3,
   "id": "e1b050c6",
   "metadata": {},
   "outputs": [],
   "source": [
    "my_string = \"hello world\""
   ]
  },
  {
   "cell_type": "code",
   "execution_count": 4,
   "id": "a2dc8f9d",
   "metadata": {},
   "outputs": [
    {
     "data": {
      "text/plain": [
       "'hello world'"
      ]
     },
     "execution_count": 4,
     "metadata": {},
     "output_type": "execute_result"
    }
   ],
   "source": [
    "my_string"
   ]
  },
  {
   "cell_type": "markdown",
   "id": "7138a607",
   "metadata": {},
   "source": [
    "##indexing"
   ]
  },
  {
   "cell_type": "code",
   "execution_count": 5,
   "id": "308dd641",
   "metadata": {},
   "outputs": [
    {
     "data": {
      "text/plain": [
       "'h'"
      ]
     },
     "execution_count": 5,
     "metadata": {},
     "output_type": "execute_result"
    }
   ],
   "source": [
    "my_string[0]"
   ]
  },
  {
   "cell_type": "code",
   "execution_count": 6,
   "id": "ee3ad158",
   "metadata": {},
   "outputs": [
    {
     "data": {
      "text/plain": [
       "' '"
      ]
     },
     "execution_count": 6,
     "metadata": {},
     "output_type": "execute_result"
    }
   ],
   "source": [
    "my_string[5]"
   ]
  },
  {
   "cell_type": "code",
   "execution_count": 7,
   "id": "c10bbe81",
   "metadata": {},
   "outputs": [
    {
     "data": {
      "text/plain": [
       "'o'"
      ]
     },
     "execution_count": 7,
     "metadata": {},
     "output_type": "execute_result"
    }
   ],
   "source": [
    "my_string[4]"
   ]
  },
  {
   "cell_type": "code",
   "execution_count": 8,
   "id": "5dfa2b84",
   "metadata": {},
   "outputs": [
    {
     "data": {
      "text/plain": [
       "'d'"
      ]
     },
     "execution_count": 8,
     "metadata": {},
     "output_type": "execute_result"
    }
   ],
   "source": [
    "my_string[-1]"
   ]
  },
  {
   "cell_type": "code",
   "execution_count": 9,
   "id": "360e3f5b",
   "metadata": {},
   "outputs": [
    {
     "data": {
      "text/plain": [
       "'r'"
      ]
     },
     "execution_count": 9,
     "metadata": {},
     "output_type": "execute_result"
    }
   ],
   "source": [
    "my_string[-3]"
   ]
  },
  {
   "cell_type": "code",
   "execution_count": 14,
   "id": "2da8afaf",
   "metadata": {},
   "outputs": [],
   "source": [
    "my_string_2 =\"1234567890\" "
   ]
  },
  {
   "cell_type": "code",
   "execution_count": 12,
   "id": "1f65f014",
   "metadata": {},
   "outputs": [
    {
     "data": {
      "text/plain": [
       "'1'"
      ]
     },
     "execution_count": 12,
     "metadata": {},
     "output_type": "execute_result"
    }
   ],
   "source": [
    "my_string_2[0]"
   ]
  },
  {
   "cell_type": "code",
   "execution_count": 15,
   "id": "14593fad",
   "metadata": {},
   "outputs": [
    {
     "data": {
      "text/plain": [
       "'34567890'"
      ]
     },
     "execution_count": 15,
     "metadata": {},
     "output_type": "execute_result"
    }
   ],
   "source": [
    "my_string_2[2:]"
   ]
  },
  {
   "cell_type": "markdown",
   "id": "f9ea1524",
   "metadata": {},
   "source": [
    "##slicing (dilimleme)"
   ]
  },
  {
   "cell_type": "code",
   "execution_count": 16,
   "id": "31d27bbf",
   "metadata": {},
   "outputs": [
    {
     "data": {
      "text/plain": [
       "'5'"
      ]
     },
     "execution_count": 16,
     "metadata": {},
     "output_type": "execute_result"
    }
   ],
   "source": [
    "my_string_2[4]"
   ]
  },
  {
   "cell_type": "code",
   "execution_count": 17,
   "id": "acd2afa5",
   "metadata": {},
   "outputs": [
    {
     "data": {
      "text/plain": [
       "'567890'"
      ]
     },
     "execution_count": 17,
     "metadata": {},
     "output_type": "execute_result"
    }
   ],
   "source": [
    "my_string_2[4:]"
   ]
  },
  {
   "cell_type": "code",
   "execution_count": 18,
   "id": "807f2c42",
   "metadata": {},
   "outputs": [
    {
     "data": {
      "text/plain": [
       "'12'"
      ]
     },
     "execution_count": 18,
     "metadata": {},
     "output_type": "execute_result"
    }
   ],
   "source": [
    "my_string_2[:2]"
   ]
  },
  {
   "cell_type": "markdown",
   "id": "394cde36",
   "metadata": {},
   "source": [
    "##stopping index (durdurma indeksi)"
   ]
  },
  {
   "cell_type": "code",
   "execution_count": 19,
   "id": "f19a24fa",
   "metadata": {},
   "outputs": [
    {
     "data": {
      "text/plain": [
       "'1234'"
      ]
     },
     "execution_count": 19,
     "metadata": {},
     "output_type": "execute_result"
    }
   ],
   "source": [
    "my_string_2[:4]"
   ]
  },
  {
   "cell_type": "code",
   "execution_count": 20,
   "id": "fde560fe",
   "metadata": {},
   "outputs": [
    {
     "data": {
      "text/plain": [
       "'34'"
      ]
     },
     "execution_count": 20,
     "metadata": {},
     "output_type": "execute_result"
    }
   ],
   "source": [
    "my_string_2[2:4]"
   ]
  },
  {
   "cell_type": "code",
   "execution_count": 21,
   "id": "b384ecaa",
   "metadata": {},
   "outputs": [
    {
     "data": {
      "text/plain": [
       "'5678'"
      ]
     },
     "execution_count": 21,
     "metadata": {},
     "output_type": "execute_result"
    }
   ],
   "source": [
    "my_string_2[4:8]"
   ]
  },
  {
   "cell_type": "code",
   "execution_count": 22,
   "id": "18abfa16",
   "metadata": {},
   "outputs": [
    {
     "data": {
      "text/plain": [
       "'2'"
      ]
     },
     "execution_count": 22,
     "metadata": {},
     "output_type": "execute_result"
    }
   ],
   "source": [
    "my_string_2[1:2]"
   ]
  },
  {
   "cell_type": "markdown",
   "id": "6f2271d8",
   "metadata": {},
   "source": [
    "##step size (adım boyutu)"
   ]
  },
  {
   "cell_type": "code",
   "execution_count": 23,
   "id": "5515585c",
   "metadata": {},
   "outputs": [
    {
     "data": {
      "text/plain": [
       "'1234567890'"
      ]
     },
     "execution_count": 23,
     "metadata": {},
     "output_type": "execute_result"
    }
   ],
   "source": [
    "my_string_2[:]"
   ]
  },
  {
   "cell_type": "code",
   "execution_count": 24,
   "id": "48225528",
   "metadata": {},
   "outputs": [
    {
     "data": {
      "text/plain": [
       "'1234567890'"
      ]
     },
     "execution_count": 24,
     "metadata": {},
     "output_type": "execute_result"
    }
   ],
   "source": [
    "my_string_2[::]"
   ]
  },
  {
   "cell_type": "code",
   "execution_count": 25,
   "id": "9dfe94d9",
   "metadata": {},
   "outputs": [
    {
     "data": {
      "text/plain": [
       "'1470'"
      ]
     },
     "execution_count": 25,
     "metadata": {},
     "output_type": "execute_result"
    }
   ],
   "source": [
    "my_string_2[::3]"
   ]
  },
  {
   "cell_type": "code",
   "execution_count": 26,
   "id": "8cff15e1",
   "metadata": {},
   "outputs": [
    {
     "data": {
      "text/plain": [
       "'13579'"
      ]
     },
     "execution_count": 26,
     "metadata": {},
     "output_type": "execute_result"
    }
   ],
   "source": [
    "my_string_2[::2]"
   ]
  },
  {
   "cell_type": "code",
   "execution_count": 27,
   "id": "0fda1444",
   "metadata": {},
   "outputs": [
    {
     "data": {
      "text/plain": [
       "'3'"
      ]
     },
     "execution_count": 27,
     "metadata": {},
     "output_type": "execute_result"
    }
   ],
   "source": [
    "my_string_2[2:4:2]"
   ]
  },
  {
   "cell_type": "code",
   "execution_count": 28,
   "id": "f9f6ba0c",
   "metadata": {},
   "outputs": [
    {
     "data": {
      "text/plain": [
       "'0987654321'"
      ]
     },
     "execution_count": 28,
     "metadata": {},
     "output_type": "execute_result"
    }
   ],
   "source": [
    "my_string_2[::-1]"
   ]
  },
  {
   "cell_type": "code",
   "execution_count": 29,
   "id": "a1e73d39",
   "metadata": {},
   "outputs": [
    {
     "data": {
      "text/plain": [
       "''"
      ]
     },
     "execution_count": 29,
     "metadata": {},
     "output_type": "execute_result"
    }
   ],
   "source": [
    "my_string_2[8:6]"
   ]
  },
  {
   "cell_type": "code",
   "execution_count": 30,
   "id": "55f1a3ff",
   "metadata": {},
   "outputs": [
    {
     "data": {
      "text/plain": [
       "'78'"
      ]
     },
     "execution_count": 30,
     "metadata": {},
     "output_type": "execute_result"
    }
   ],
   "source": [
    "my_string_2[6:8]"
   ]
  },
  {
   "cell_type": "markdown",
   "id": "087a7213",
   "metadata": {},
   "source": [
    "##string methods"
   ]
  },
  {
   "cell_type": "code",
   "execution_count": 33,
   "id": "5aa5b411",
   "metadata": {},
   "outputs": [],
   "source": [
    "my_name=\"emirhan\""
   ]
  },
  {
   "cell_type": "code",
   "execution_count": 32,
   "id": "914c0bc8",
   "metadata": {},
   "outputs": [
    {
     "data": {
      "text/plain": [
       "'Emirrhan'"
      ]
     },
     "execution_count": 32,
     "metadata": {},
     "output_type": "execute_result"
    }
   ],
   "source": [
    "my_name.capitalize()"
   ]
  },
  {
   "cell_type": "code",
   "execution_count": 34,
   "id": "b83c08e2",
   "metadata": {},
   "outputs": [
    {
     "data": {
      "text/plain": [
       "'Emirhan'"
      ]
     },
     "execution_count": 34,
     "metadata": {},
     "output_type": "execute_result"
    }
   ],
   "source": [
    "my_name.capitalize()"
   ]
  },
  {
   "cell_type": "code",
   "execution_count": 35,
   "id": "8424c5ce",
   "metadata": {},
   "outputs": [
    {
     "data": {
      "text/plain": [
       "'emirhan'"
      ]
     },
     "execution_count": 35,
     "metadata": {},
     "output_type": "execute_result"
    }
   ],
   "source": [
    "my_name"
   ]
  },
  {
   "cell_type": "code",
   "execution_count": null,
   "id": "105784e2",
   "metadata": {},
   "outputs": [],
   "source": [
    "my_name_capitalized"
   ]
  },
  {
   "cell_type": "code",
   "execution_count": 42,
   "id": "dab96c68",
   "metadata": {},
   "outputs": [],
   "source": [
    "my_name_capitalized = my_name.capitalize()"
   ]
  },
  {
   "cell_type": "code",
   "execution_count": 43,
   "id": "08913972",
   "metadata": {},
   "outputs": [
    {
     "data": {
      "text/plain": [
       "'Emirhan'"
      ]
     },
     "execution_count": 43,
     "metadata": {},
     "output_type": "execute_result"
    }
   ],
   "source": [
    "my_name_capitalized "
   ]
  },
  {
   "cell_type": "code",
   "execution_count": 44,
   "id": "2dc7144d",
   "metadata": {},
   "outputs": [],
   "source": [
    "my_name=\"Emirhan Duran\""
   ]
  },
  {
   "cell_type": "code",
   "execution_count": 45,
   "id": "9651d9be",
   "metadata": {},
   "outputs": [
    {
     "data": {
      "text/plain": [
       "['Emirhan', 'Duran']"
      ]
     },
     "execution_count": 45,
     "metadata": {},
     "output_type": "execute_result"
    }
   ],
   "source": [
    "my_name.split()"
   ]
  },
  {
   "cell_type": "code",
   "execution_count": 46,
   "id": "3809d990",
   "metadata": {},
   "outputs": [
    {
     "data": {
      "text/plain": [
       "'Emirhan Duran'"
      ]
     },
     "execution_count": 46,
     "metadata": {},
     "output_type": "execute_result"
    }
   ],
   "source": [
    "my_name"
   ]
  },
  {
   "cell_type": "code",
   "execution_count": 47,
   "id": "49f55a83",
   "metadata": {},
   "outputs": [],
   "source": [
    "my_name_split = my_name.split()"
   ]
  },
  {
   "cell_type": "code",
   "execution_count": 48,
   "id": "1e4fe3c8",
   "metadata": {},
   "outputs": [
    {
     "data": {
      "text/plain": [
       "['Emirhan', 'Duran']"
      ]
     },
     "execution_count": 48,
     "metadata": {},
     "output_type": "execute_result"
    }
   ],
   "source": [
    "my_name_split"
   ]
  },
  {
   "cell_type": "code",
   "execution_count": 50,
   "id": "bf2718c0",
   "metadata": {},
   "outputs": [
    {
     "data": {
      "text/plain": [
       "'EMIRHAN DURAN'"
      ]
     },
     "execution_count": 50,
     "metadata": {},
     "output_type": "execute_result"
    }
   ],
   "source": [
    "my_name.upper()"
   ]
  },
  {
   "cell_type": "code",
   "execution_count": 53,
   "id": "22b8cf69",
   "metadata": {},
   "outputs": [
    {
     "data": {
      "text/plain": [
       "'EmirhanEmirhanEmirhanEmirhanEmirhanEmirhanEmirhanEmirhanEmirhanEmirhan'"
      ]
     },
     "execution_count": 53,
     "metadata": {},
     "output_type": "execute_result"
    }
   ],
   "source": [
    "\"Emirhan\" *10"
   ]
  },
  {
   "cell_type": "code",
   "execution_count": 54,
   "id": "797f8345",
   "metadata": {},
   "outputs": [
    {
     "data": {
      "text/plain": [
       "'EMİRHANDURAN'"
      ]
     },
     "execution_count": 54,
     "metadata": {},
     "output_type": "execute_result"
    }
   ],
   "source": [
    "\"EMİRHAN\" + \"DURAN\""
   ]
  },
  {
   "cell_type": "code",
   "execution_count": 93,
   "id": "f1e51dcb",
   "metadata": {},
   "outputs": [],
   "source": [
    "my_name1 =\"Emirhan\""
   ]
  },
  {
   "cell_type": "code",
   "execution_count": 94,
   "id": "6b0d487b",
   "metadata": {},
   "outputs": [],
   "source": [
    "my_surname1 =\"Duran\""
   ]
  },
  {
   "cell_type": "code",
   "execution_count": 95,
   "id": "276c5b77",
   "metadata": {},
   "outputs": [],
   "source": [
    "my_full_name1 = my_name1 + my_surname1"
   ]
  },
  {
   "cell_type": "code",
   "execution_count": 96,
   "id": "d114ac68",
   "metadata": {},
   "outputs": [
    {
     "data": {
      "text/plain": [
       "'EmirhanDuran'"
      ]
     },
     "execution_count": 96,
     "metadata": {},
     "output_type": "execute_result"
    }
   ],
   "source": [
    "my_full_name1"
   ]
  },
  {
   "cell_type": "code",
   "execution_count": 97,
   "id": "8f71cd8c",
   "metadata": {},
   "outputs": [],
   "source": [
    "my_full_name = my_name + my_surname"
   ]
  },
  {
   "cell_type": "code",
   "execution_count": 98,
   "id": "503962ea",
   "metadata": {},
   "outputs": [],
   "source": [
    "my_full_name1 = my_name1 +\"\"+ my_surname1"
   ]
  },
  {
   "cell_type": "code",
   "execution_count": 100,
   "id": "bc4ac0a0",
   "metadata": {},
   "outputs": [
    {
     "data": {
      "text/plain": [
       "'Emirhan Duran'"
      ]
     },
     "execution_count": 100,
     "metadata": {},
     "output_type": "execute_result"
    }
   ],
   "source": [
    "my_full_name1\n"
   ]
  },
  {
   "cell_type": "code",
   "execution_count": 82,
   "id": "7ab1c09f",
   "metadata": {},
   "outputs": [],
   "source": [
    "my_name2 =\"Kamil_Hocam\""
   ]
  },
  {
   "cell_type": "code",
   "execution_count": 83,
   "id": "dcbea097",
   "metadata": {},
   "outputs": [],
   "source": [
    "my_surname2 =\"Saygılar\""
   ]
  },
  {
   "cell_type": "code",
   "execution_count": 84,
   "id": "6d5b0564",
   "metadata": {},
   "outputs": [],
   "source": [
    "my_full_name2 = my_name + my_surname"
   ]
  },
  {
   "cell_type": "code",
   "execution_count": 85,
   "id": "8115a24b",
   "metadata": {},
   "outputs": [
    {
     "data": {
      "text/plain": [
       "'Kamil_HocamSaygılar'"
      ]
     },
     "execution_count": 85,
     "metadata": {},
     "output_type": "execute_result"
    }
   ],
   "source": [
    "my_full_name2"
   ]
  },
  {
   "cell_type": "code",
   "execution_count": 86,
   "id": "56b880ce",
   "metadata": {},
   "outputs": [],
   "source": [
    "my_full_name2 = my_name2 + my_surname2"
   ]
  },
  {
   "cell_type": "code",
   "execution_count": 87,
   "id": "ba8409f0",
   "metadata": {},
   "outputs": [
    {
     "data": {
      "text/plain": [
       "'Kamil_HocamSaygılar'"
      ]
     },
     "execution_count": 87,
     "metadata": {},
     "output_type": "execute_result"
    }
   ],
   "source": [
    "my_full_name2 "
   ]
  },
  {
   "cell_type": "code",
   "execution_count": 3,
   "id": "63494214",
   "metadata": {},
   "outputs": [],
   "source": [
    "my_name=\"emirhan\""
   ]
  },
  {
   "cell_type": "code",
   "execution_count": 4,
   "id": "1d446608",
   "metadata": {},
   "outputs": [
    {
     "data": {
      "text/plain": [
       "'emirhan'"
      ]
     },
     "execution_count": 4,
     "metadata": {},
     "output_type": "execute_result"
    }
   ],
   "source": [
    "my_name"
   ]
  },
  {
   "cell_type": "code",
   "execution_count": 5,
   "id": "4dfc11df",
   "metadata": {},
   "outputs": [
    {
     "data": {
      "text/plain": [
       "'Emirhan'"
      ]
     },
     "execution_count": 5,
     "metadata": {},
     "output_type": "execute_result"
    }
   ],
   "source": [
    "my_name.capitalize()"
   ]
  },
  {
   "cell_type": "code",
   "execution_count": 6,
   "id": "9de7cdde",
   "metadata": {},
   "outputs": [
    {
     "data": {
      "text/plain": [
       "'emirhan'"
      ]
     },
     "execution_count": 6,
     "metadata": {},
     "output_type": "execute_result"
    }
   ],
   "source": [
    "my_name.lower()"
   ]
  },
  {
   "cell_type": "code",
   "execution_count": 7,
   "id": "3019579b",
   "metadata": {},
   "outputs": [
    {
     "data": {
      "text/plain": [
       "'EMIRHAN'"
      ]
     },
     "execution_count": 7,
     "metadata": {},
     "output_type": "execute_result"
    }
   ],
   "source": [
    "my_name.upper()"
   ]
  },
  {
   "cell_type": "code",
   "execution_count": null,
   "id": "8165bc7d",
   "metadata": {},
   "outputs": [],
   "source": []
  }
 ],
 "metadata": {
  "kernelspec": {
   "display_name": "Python 3 (ipykernel)",
   "language": "python",
   "name": "python3"
  },
  "language_info": {
   "codemirror_mode": {
    "name": "ipython",
    "version": 3
   },
   "file_extension": ".py",
   "mimetype": "text/x-python",
   "name": "python",
   "nbconvert_exporter": "python",
   "pygments_lexer": "ipython3",
   "version": "3.9.7"
  }
 },
 "nbformat": 4,
 "nbformat_minor": 5
}
