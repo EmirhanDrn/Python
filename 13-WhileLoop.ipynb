{
 "cells": [
  {
   "cell_type": "code",
   "execution_count": 27,
   "id": "0a1ac88b",
   "metadata": {},
   "outputs": [],
   "source": [
    "a = 0"
   ]
  },
  {
   "cell_type": "code",
   "execution_count": 28,
   "id": "1e2fcf2a",
   "metadata": {},
   "outputs": [
    {
     "name": "stdout",
     "output_type": "stream",
     "text": [
      "bmw\n",
      "bmw\n",
      "bmw\n",
      "bmw\n",
      "bmw\n",
      "bmw\n"
     ]
    }
   ],
   "source": [
    "while a<=5:\n",
    "    print(\"bmw\")\n",
    "    a = a + 1"
   ]
  },
  {
   "cell_type": "code",
   "execution_count": 32,
   "id": "d53d60e7",
   "metadata": {},
   "outputs": [],
   "source": [
    "my_list = [1,2,3,4,5,6]"
   ]
  },
  {
   "cell_type": "code",
   "execution_count": 33,
   "id": "9a4c3c13",
   "metadata": {},
   "outputs": [
    {
     "data": {
      "text/plain": [
       "6"
      ]
     },
     "execution_count": 33,
     "metadata": {},
     "output_type": "execute_result"
    }
   ],
   "source": [
    "my_list.pop()"
   ]
  },
  {
   "cell_type": "code",
   "execution_count": 34,
   "id": "6ff2343d",
   "metadata": {},
   "outputs": [
    {
     "data": {
      "text/plain": [
       "[1, 2, 3, 4, 5]"
      ]
     },
     "execution_count": 34,
     "metadata": {},
     "output_type": "execute_result"
    }
   ],
   "source": [
    "my_list\n"
   ]
  },
  {
   "cell_type": "code",
   "execution_count": 35,
   "id": "50a156b1",
   "metadata": {},
   "outputs": [],
   "source": [
    "my_list.append(6)"
   ]
  },
  {
   "cell_type": "code",
   "execution_count": 36,
   "id": "1427c1e0",
   "metadata": {},
   "outputs": [
    {
     "data": {
      "text/plain": [
       "[1, 2, 3, 4, 5, 6]"
      ]
     },
     "execution_count": 36,
     "metadata": {},
     "output_type": "execute_result"
    }
   ],
   "source": [
    "my_list"
   ]
  },
  {
   "cell_type": "code",
   "execution_count": 41,
   "id": "56151678",
   "metadata": {},
   "outputs": [
    {
     "name": "stdout",
     "output_type": "stream",
     "text": [
      "sü\n",
      "sü\n",
      "sü\n",
      "sü\n"
     ]
    }
   ],
   "source": [
    "while 3 in my_list:\n",
    "    print (\"sü\")\n",
    "    my_list.pop()\n"
   ]
  },
  {
   "cell_type": "code",
   "execution_count": 56,
   "id": "58b6490d",
   "metadata": {},
   "outputs": [],
   "source": [
    "a = 0"
   ]
  },
  {
   "cell_type": "code",
   "execution_count": 57,
   "id": "eab32da1",
   "metadata": {},
   "outputs": [
    {
     "name": "stdout",
     "output_type": "stream",
     "text": [
      "0\n",
      "1\n",
      "2\n",
      "3\n",
      "4\n",
      "5\n",
      "6\n",
      "7\n",
      "8\n",
      "9\n"
     ]
    }
   ],
   "source": [
    "while a <  10:\n",
    "    #if a == 5:\n",
    "        #break\n",
    "    print(a)\n",
    "    a += 1"
   ]
  },
  {
   "cell_type": "code",
   "execution_count": 65,
   "id": "fe67366f",
   "metadata": {},
   "outputs": [],
   "source": [
    "num = 0"
   ]
  },
  {
   "cell_type": "code",
   "execution_count": 66,
   "id": "1ec515fe",
   "metadata": {},
   "outputs": [
    {
     "name": "stdout",
     "output_type": "stream",
     "text": [
      "Değerler num :0\n",
      "Değerler num :1\n",
      "Değerler num :2\n",
      "Değerler num :3\n",
      "Değerler num :4\n",
      "Değerler num :5\n",
      "Değerler num :6\n",
      "Değerler num :7\n",
      "Değerler num :8\n",
      "Değerler num :9\n",
      "Değerler num :10\n",
      "Değerler num :11\n",
      "Değerler num :12\n",
      "Değerler num :13\n",
      "Değerler num :14\n",
      "Değerler num :15\n",
      "Değerler num :16\n",
      "Değerler num :17\n",
      "Değerler num :18\n",
      "Değerler num :19\n"
     ]
    }
   ],
   "source": [
    "while num < 20:\n",
    "    #print (\"Değerler num :\"+str(num))\n",
    "    print (f\"Değerler num :{num}\")\n",
    "    num += 1 "
   ]
  },
  {
   "cell_type": "code",
   "execution_count": null,
   "id": "c1fcae9a",
   "metadata": {},
   "outputs": [],
   "source": []
  }
 ],
 "metadata": {
  "kernelspec": {
   "display_name": "Python 3 (ipykernel)",
   "language": "python",
   "name": "python3"
  },
  "language_info": {
   "codemirror_mode": {
    "name": "ipython",
    "version": 3
   },
   "file_extension": ".py",
   "mimetype": "text/x-python",
   "name": "python",
   "nbconvert_exporter": "python",
   "pygments_lexer": "ipython3",
   "version": "3.9.7"
  }
 },
 "nbformat": 4,
 "nbformat_minor": 5
}
