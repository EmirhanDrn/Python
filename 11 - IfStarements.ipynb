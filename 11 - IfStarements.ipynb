{
 "cells": [
  {
   "cell_type": "code",
   "execution_count": 7,
   "id": "29fe842e",
   "metadata": {},
   "outputs": [
    {
     "name": "stdout",
     "output_type": "stream",
     "text": [
      "Hello Emirhan\n",
      "3 2 1 \n"
     ]
    }
   ],
   "source": [
    " if 3 >2 :\n",
    "        print (\"Hello Emirhan\")  \n",
    "        print (\"3 2 1 \")"
   ]
  },
  {
   "cell_type": "code",
   "execution_count": 24,
   "id": "68fa4b66",
   "metadata": {},
   "outputs": [],
   "source": [
    "x = 4"
   ]
  },
  {
   "cell_type": "code",
   "execution_count": 25,
   "id": "fabdcc3b",
   "metadata": {},
   "outputs": [],
   "source": [
    "y = 4"
   ]
  },
  {
   "cell_type": "code",
   "execution_count": 26,
   "id": "878e92a5",
   "metadata": {},
   "outputs": [
    {
     "name": "stdout",
     "output_type": "stream",
     "text": [
      "x ile y eşit\n"
     ]
    }
   ],
   "source": [
    "if x > y:\n",
    "    print (\"x daha büyük\")\n",
    "elif x==y:\n",
    "    print (\"x ile y eşit\")\n",
    "        \n",
    "else:\n",
    "    print (\"y daha büyük\")"
   ]
  },
  {
   "cell_type": "code",
   "execution_count": 35,
   "id": "64aa4ea6",
   "metadata": {},
   "outputs": [
    {
     "name": "stdout",
     "output_type": "stream",
     "text": [
      "En sevdiğin süper kahramanın: Spiderman\n"
     ]
    }
   ],
   "source": [
    "my_superhero = input (\"En sevdiğin süper kahramanın: \")"
   ]
  },
  {
   "cell_type": "code",
   "execution_count": 38,
   "id": "b882f8f2",
   "metadata": {},
   "outputs": [
    {
     "name": "stdout",
     "output_type": "stream",
     "text": [
      "3 den biri değil\n"
     ]
    }
   ],
   "source": [
    "if my_superhero == \"Thor\":\n",
    "    print (\"Thooor\")\n",
    "elif my_superhero == \"Batman\":\n",
    "    print (\"Batman\")\n",
    "elif my_superhero == \"Iron Emirhan\":\n",
    "    print (\"Iron Emirhan\")\n",
    "else :\n",
    "    print (\"3 den biri değil\")\n",
    "\n",
    "    "
   ]
  },
  {
   "cell_type": "code",
   "execution_count": 42,
   "id": "8b02e6b5",
   "metadata": {},
   "outputs": [],
   "source": [
    "isDead=False"
   ]
  },
  {
   "cell_type": "code",
   "execution_count": 45,
   "id": "4bccd2ce",
   "metadata": {},
   "outputs": [
    {
     "name": "stdout",
     "output_type": "stream",
     "text": [
      "Karakter ölü\n"
     ]
    }
   ],
   "source": [
    "if isDead == True:\n",
    "    print(\"Karakter ölü değil\")\n",
    "else:\n",
    "    print(\"Karakter ölü\")\n"
   ]
  },
  {
   "cell_type": "code",
   "execution_count": 50,
   "id": "648df3a6",
   "metadata": {},
   "outputs": [],
   "source": [
    " my_string = \"hello word\""
   ]
  },
  {
   "cell_type": "code",
   "execution_count": 51,
   "id": "d038f7e8",
   "metadata": {},
   "outputs": [
    {
     "name": "stdout",
     "output_type": "stream",
     "text": [
      "Eşit değil\n"
     ]
    }
   ],
   "source": [
    "if   my_string == \"Hello word\":\n",
    "    print (\"Eşit\")\n",
    "elif my_string ==\"hello word\":\n",
    "    print (\"Eşit değil\")"
   ]
  },
  {
   "cell_type": "code",
   "execution_count": 58,
   "id": "51f8bfc3",
   "metadata": {},
   "outputs": [
    {
     "name": "stdout",
     "output_type": "stream",
     "text": [
      "Yok\n"
     ]
    }
   ],
   "source": [
    "if \"Hello\" in my_string:\n",
    "    print (\"Var\")\n",
    "else: \n",
    "    print (\"Yok\")"
   ]
  },
  {
   "cell_type": "code",
   "execution_count": 63,
   "id": "62641a07",
   "metadata": {},
   "outputs": [],
   "source": [
    "my_list = [1,11,3,4,5,6,7]"
   ]
  },
  {
   "cell_type": "code",
   "execution_count": 64,
   "id": "ec8c75d9",
   "metadata": {},
   "outputs": [
    {
     "name": "stdout",
     "output_type": "stream",
     "text": [
      "yok\n"
     ]
    }
   ],
   "source": [
    "if 2 in my_list:\n",
    "    print (\"var \")\n",
    "else:\n",
    "    print (\"yok\")"
   ]
  },
  {
   "cell_type": "code",
   "execution_count": 65,
   "id": "0df6bc27",
   "metadata": {},
   "outputs": [],
   "source": [
    "my_dictiorary = {\"k1\":100,\"k2\":150,\"k3\":300}"
   ]
  },
  {
   "cell_type": "code",
   "execution_count": 70,
   "id": "291c81eb",
   "metadata": {},
   "outputs": [
    {
     "name": "stdout",
     "output_type": "stream",
     "text": [
      "var\n"
     ]
    }
   ],
   "source": [
    "if 300 in my_dictiorary.values():\n",
    "    print (\"var\")\n",
    "else:\n",
    "    print (\"yok\")"
   ]
  },
  {
   "cell_type": "code",
   "execution_count": null,
   "id": "55c7f37d",
   "metadata": {},
   "outputs": [],
   "source": []
  }
 ],
 "metadata": {
  "kernelspec": {
   "display_name": "Python 3 (ipykernel)",
   "language": "python",
   "name": "python3"
  },
  "language_info": {
   "codemirror_mode": {
    "name": "ipython",
    "version": 3
   },
   "file_extension": ".py",
   "mimetype": "text/x-python",
   "name": "python",
   "nbconvert_exporter": "python",
   "pygments_lexer": "ipython3",
   "version": "3.9.7"
  }
 },
 "nbformat": 4,
 "nbformat_minor": 5
}
